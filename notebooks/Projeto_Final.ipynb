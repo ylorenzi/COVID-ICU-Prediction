{
 "cells": [
  {
   "cell_type": "markdown",
   "id": "08f1fea7",
   "metadata": {},
   "source": [
    "# Projeto Final Bootcamp de Data Science aplicada Alura\n",
    "![](https://play-lh.googleusercontent.com/IDLZXWHLCVun428g_YGnR2HgnoIUlIRNfkmEEM0hmrzhBKZrhJ5UwM0_eHaWQT4gXAs)"
   ]
  },
  {
   "cell_type": "markdown",
   "id": "1293d600",
   "metadata": {},
   "source": [
    "# 1- Introdução:\n",
    "\n",
    "Uma das grandes preocupações durante a pandemia da COVID-19 foi sobrecarga nos sistemas de saúde, que afetou a disponibilidade de leitos de UTI nos hospitais. Para evitar o colapso era importante que os hospitais fossem capazes de prever qual seria a demanda por tais leitos, para poder se previnir com antecedência de possíveis lotações e agendar a transferência de pacientes para outros hospitais.\n",
    "\n",
    "Pensando nisso a equipe de Data Intelligence do hospital Sírio-Libanês disponibilizou uma base de dados de pacientes com COVID-19 no Kaggle para o desenvolvimento de modelos de machine learning capazes de prever se um dado paciente iria precisar ou não de um leito de UTI.\n"
   ]
  },
  {
   "cell_type": "markdown",
   "id": "325e8cf8",
   "metadata": {},
   "source": [
    "### Importando as bibliotecas"
   ]
  },
  {
   "cell_type": "code",
   "execution_count": 13,
   "id": "94f9f2ee",
   "metadata": {},
   "outputs": [],
   "source": [
    "import pandas as pd\n",
    "import numpy as np\n",
    "import matplotlib.pyplot as plt\n",
    "from sklearn.model_selection import train_test_split\n",
    "from sklearn.linear_model import LogisticRegression\n",
    "from sklearn.tree import DecisionTreeClassifier\n",
    "from sklearn.dummy import DummyClassifier\n",
    "from sklearn.metrics import accuracy_score\n",
    "from sklearn.model_selection import GridSearchCV\n",
    "from sklearn.metrics import roc_auc_score\n",
    "from sklearn.model_selection import cross_validate\n",
    "from sklearn.model_selection import StratifiedKFold\n",
    "from sklearn.model_selection import RepeatedStratifiedKFold\n",
    "from sklearn.ensemble import RandomForestClassifier\n",
    "from funcoes import busca_hiperparametros\n",
    "import warnings\n",
    "warnings.filterwarnings(\"ignore\")"
   ]
  },
  {
   "cell_type": "markdown",
   "id": "a4e26d0e",
   "metadata": {},
   "source": [
    "### Importando os dados limpos\n",
    "\n",
    "(a limpeza dos dados foi feita em outro notebook!)"
   ]
  },
  {
   "cell_type": "code",
   "execution_count": 2,
   "id": "63b8ee52",
   "metadata": {},
   "outputs": [],
   "source": [
    "dados_limpos = pd.read_csv(\"dados_limpos\")"
   ]
  },
  {
   "cell_type": "code",
   "execution_count": 3,
   "id": "f37f36b9",
   "metadata": {
    "scrolled": true
   },
   "outputs": [
    {
     "data": {
      "text/html": [
       "<div>\n",
       "<style scoped>\n",
       "    .dataframe tbody tr th:only-of-type {\n",
       "        vertical-align: middle;\n",
       "    }\n",
       "\n",
       "    .dataframe tbody tr th {\n",
       "        vertical-align: top;\n",
       "    }\n",
       "\n",
       "    .dataframe thead th {\n",
       "        text-align: right;\n",
       "    }\n",
       "</style>\n",
       "<table border=\"1\" class=\"dataframe\">\n",
       "  <thead>\n",
       "    <tr style=\"text-align: right;\">\n",
       "      <th></th>\n",
       "      <th>PATIENT_VISIT_IDENTIFIER</th>\n",
       "      <th>AGE_ABOVE65</th>\n",
       "      <th>AGE_PERCENTIL</th>\n",
       "      <th>GENDER</th>\n",
       "      <th>DISEASE GROUPING 1</th>\n",
       "      <th>DISEASE GROUPING 2</th>\n",
       "      <th>DISEASE GROUPING 3</th>\n",
       "      <th>DISEASE GROUPING 4</th>\n",
       "      <th>DISEASE GROUPING 5</th>\n",
       "      <th>DISEASE GROUPING 6</th>\n",
       "      <th>...</th>\n",
       "      <th>BLOODPRESSURE_DIASTOLIC_MAX</th>\n",
       "      <th>BLOODPRESSURE_DIASTOLIC_DIFF</th>\n",
       "      <th>BLOODPRESSURE_SISTOLIC_DIFF</th>\n",
       "      <th>HEART_RATE_DIFF</th>\n",
       "      <th>RESPIRATORY_RATE_DIFF</th>\n",
       "      <th>TEMPERATURE_DIFF</th>\n",
       "      <th>OXYGEN_SATURATION_DIFF</th>\n",
       "      <th>HEART_RATE_DIFF_REL</th>\n",
       "      <th>WINDOW</th>\n",
       "      <th>ICU</th>\n",
       "    </tr>\n",
       "  </thead>\n",
       "  <tbody>\n",
       "    <tr>\n",
       "      <th>0</th>\n",
       "      <td>0</td>\n",
       "      <td>1</td>\n",
       "      <td>5</td>\n",
       "      <td>0</td>\n",
       "      <td>0.0</td>\n",
       "      <td>0.0</td>\n",
       "      <td>0.0</td>\n",
       "      <td>0.0</td>\n",
       "      <td>1.0</td>\n",
       "      <td>1.0</td>\n",
       "      <td>...</td>\n",
       "      <td>-0.247863</td>\n",
       "      <td>-1.000000</td>\n",
       "      <td>-1.000000</td>\n",
       "      <td>-1.000000</td>\n",
       "      <td>-1.000000</td>\n",
       "      <td>-1.000000</td>\n",
       "      <td>-1.000000</td>\n",
       "      <td>-1.000000</td>\n",
       "      <td>0-2</td>\n",
       "      <td>1</td>\n",
       "    </tr>\n",
       "    <tr>\n",
       "      <th>1</th>\n",
       "      <td>2</td>\n",
       "      <td>0</td>\n",
       "      <td>0</td>\n",
       "      <td>0</td>\n",
       "      <td>0.0</td>\n",
       "      <td>0.0</td>\n",
       "      <td>0.0</td>\n",
       "      <td>0.0</td>\n",
       "      <td>0.0</td>\n",
       "      <td>0.0</td>\n",
       "      <td>...</td>\n",
       "      <td>-0.435897</td>\n",
       "      <td>-0.547826</td>\n",
       "      <td>-0.533742</td>\n",
       "      <td>-0.603053</td>\n",
       "      <td>-0.764706</td>\n",
       "      <td>-1.000000</td>\n",
       "      <td>-0.959596</td>\n",
       "      <td>-0.747001</td>\n",
       "      <td>0-2</td>\n",
       "      <td>1</td>\n",
       "    </tr>\n",
       "    <tr>\n",
       "      <th>2</th>\n",
       "      <td>3</td>\n",
       "      <td>0</td>\n",
       "      <td>3</td>\n",
       "      <td>1</td>\n",
       "      <td>0.0</td>\n",
       "      <td>0.0</td>\n",
       "      <td>0.0</td>\n",
       "      <td>0.0</td>\n",
       "      <td>0.0</td>\n",
       "      <td>0.0</td>\n",
       "      <td>...</td>\n",
       "      <td>-0.299145</td>\n",
       "      <td>-1.000000</td>\n",
       "      <td>-1.000000</td>\n",
       "      <td>-1.000000</td>\n",
       "      <td>-1.000000</td>\n",
       "      <td>-1.000000</td>\n",
       "      <td>-1.000000</td>\n",
       "      <td>-1.000000</td>\n",
       "      <td>0-2</td>\n",
       "      <td>0</td>\n",
       "    </tr>\n",
       "    <tr>\n",
       "      <th>3</th>\n",
       "      <td>4</td>\n",
       "      <td>0</td>\n",
       "      <td>0</td>\n",
       "      <td>0</td>\n",
       "      <td>0.0</td>\n",
       "      <td>0.0</td>\n",
       "      <td>0.0</td>\n",
       "      <td>0.0</td>\n",
       "      <td>0.0</td>\n",
       "      <td>0.0</td>\n",
       "      <td>...</td>\n",
       "      <td>-0.076923</td>\n",
       "      <td>-1.000000</td>\n",
       "      <td>-0.877301</td>\n",
       "      <td>-0.923664</td>\n",
       "      <td>-0.882353</td>\n",
       "      <td>-0.952381</td>\n",
       "      <td>-0.979798</td>\n",
       "      <td>-0.956805</td>\n",
       "      <td>0-2</td>\n",
       "      <td>0</td>\n",
       "    </tr>\n",
       "    <tr>\n",
       "      <th>4</th>\n",
       "      <td>5</td>\n",
       "      <td>0</td>\n",
       "      <td>0</td>\n",
       "      <td>0</td>\n",
       "      <td>0.0</td>\n",
       "      <td>0.0</td>\n",
       "      <td>0.0</td>\n",
       "      <td>0.0</td>\n",
       "      <td>0.0</td>\n",
       "      <td>0.0</td>\n",
       "      <td>...</td>\n",
       "      <td>-0.247863</td>\n",
       "      <td>-0.826087</td>\n",
       "      <td>-0.754601</td>\n",
       "      <td>-0.984733</td>\n",
       "      <td>-1.000000</td>\n",
       "      <td>-0.976190</td>\n",
       "      <td>-0.979798</td>\n",
       "      <td>-0.986481</td>\n",
       "      <td>0-2</td>\n",
       "      <td>0</td>\n",
       "    </tr>\n",
       "    <tr>\n",
       "      <th>...</th>\n",
       "      <td>...</td>\n",
       "      <td>...</td>\n",
       "      <td>...</td>\n",
       "      <td>...</td>\n",
       "      <td>...</td>\n",
       "      <td>...</td>\n",
       "      <td>...</td>\n",
       "      <td>...</td>\n",
       "      <td>...</td>\n",
       "      <td>...</td>\n",
       "      <td>...</td>\n",
       "      <td>...</td>\n",
       "      <td>...</td>\n",
       "      <td>...</td>\n",
       "      <td>...</td>\n",
       "      <td>...</td>\n",
       "      <td>...</td>\n",
       "      <td>...</td>\n",
       "      <td>...</td>\n",
       "      <td>...</td>\n",
       "      <td>...</td>\n",
       "    </tr>\n",
       "    <tr>\n",
       "      <th>347</th>\n",
       "      <td>380</td>\n",
       "      <td>0</td>\n",
       "      <td>3</td>\n",
       "      <td>1</td>\n",
       "      <td>0.0</td>\n",
       "      <td>0.0</td>\n",
       "      <td>0.0</td>\n",
       "      <td>0.0</td>\n",
       "      <td>0.0</td>\n",
       "      <td>0.0</td>\n",
       "      <td>...</td>\n",
       "      <td>-0.418803</td>\n",
       "      <td>-1.000000</td>\n",
       "      <td>-1.000000</td>\n",
       "      <td>-1.000000</td>\n",
       "      <td>-1.000000</td>\n",
       "      <td>-1.000000</td>\n",
       "      <td>-1.000000</td>\n",
       "      <td>-1.000000</td>\n",
       "      <td>0-2</td>\n",
       "      <td>1</td>\n",
       "    </tr>\n",
       "    <tr>\n",
       "      <th>348</th>\n",
       "      <td>381</td>\n",
       "      <td>1</td>\n",
       "      <td>9</td>\n",
       "      <td>0</td>\n",
       "      <td>0.0</td>\n",
       "      <td>0.0</td>\n",
       "      <td>0.0</td>\n",
       "      <td>0.0</td>\n",
       "      <td>0.0</td>\n",
       "      <td>0.0</td>\n",
       "      <td>...</td>\n",
       "      <td>-0.589744</td>\n",
       "      <td>-1.000000</td>\n",
       "      <td>-1.000000</td>\n",
       "      <td>-1.000000</td>\n",
       "      <td>-1.000000</td>\n",
       "      <td>-0.619048</td>\n",
       "      <td>-1.000000</td>\n",
       "      <td>-1.000000</td>\n",
       "      <td>0-2</td>\n",
       "      <td>0</td>\n",
       "    </tr>\n",
       "    <tr>\n",
       "      <th>349</th>\n",
       "      <td>382</td>\n",
       "      <td>0</td>\n",
       "      <td>4</td>\n",
       "      <td>0</td>\n",
       "      <td>0.0</td>\n",
       "      <td>0.0</td>\n",
       "      <td>0.0</td>\n",
       "      <td>0.0</td>\n",
       "      <td>0.0</td>\n",
       "      <td>0.0</td>\n",
       "      <td>...</td>\n",
       "      <td>-0.299145</td>\n",
       "      <td>-1.000000</td>\n",
       "      <td>-1.000000</td>\n",
       "      <td>-1.000000</td>\n",
       "      <td>-1.000000</td>\n",
       "      <td>-1.000000</td>\n",
       "      <td>-1.000000</td>\n",
       "      <td>-1.000000</td>\n",
       "      <td>0-2</td>\n",
       "      <td>1</td>\n",
       "    </tr>\n",
       "    <tr>\n",
       "      <th>350</th>\n",
       "      <td>383</td>\n",
       "      <td>0</td>\n",
       "      <td>3</td>\n",
       "      <td>1</td>\n",
       "      <td>0.0</td>\n",
       "      <td>0.0</td>\n",
       "      <td>0.0</td>\n",
       "      <td>0.0</td>\n",
       "      <td>0.0</td>\n",
       "      <td>0.0</td>\n",
       "      <td>...</td>\n",
       "      <td>-0.247863</td>\n",
       "      <td>-1.000000</td>\n",
       "      <td>-1.000000</td>\n",
       "      <td>-1.000000</td>\n",
       "      <td>-1.000000</td>\n",
       "      <td>-1.000000</td>\n",
       "      <td>-1.000000</td>\n",
       "      <td>-1.000000</td>\n",
       "      <td>0-2</td>\n",
       "      <td>0</td>\n",
       "    </tr>\n",
       "    <tr>\n",
       "      <th>351</th>\n",
       "      <td>384</td>\n",
       "      <td>0</td>\n",
       "      <td>4</td>\n",
       "      <td>1</td>\n",
       "      <td>0.0</td>\n",
       "      <td>0.0</td>\n",
       "      <td>0.0</td>\n",
       "      <td>0.0</td>\n",
       "      <td>0.0</td>\n",
       "      <td>0.0</td>\n",
       "      <td>...</td>\n",
       "      <td>-0.299145</td>\n",
       "      <td>-1.000000</td>\n",
       "      <td>-1.000000</td>\n",
       "      <td>-1.000000</td>\n",
       "      <td>-1.000000</td>\n",
       "      <td>-1.000000</td>\n",
       "      <td>-1.000000</td>\n",
       "      <td>-1.000000</td>\n",
       "      <td>0-2</td>\n",
       "      <td>0</td>\n",
       "    </tr>\n",
       "  </tbody>\n",
       "</table>\n",
       "<p>352 rows × 100 columns</p>\n",
       "</div>"
      ],
      "text/plain": [
       "     PATIENT_VISIT_IDENTIFIER  AGE_ABOVE65  AGE_PERCENTIL  GENDER  \\\n",
       "0                           0            1              5       0   \n",
       "1                           2            0              0       0   \n",
       "2                           3            0              3       1   \n",
       "3                           4            0              0       0   \n",
       "4                           5            0              0       0   \n",
       "..                        ...          ...            ...     ...   \n",
       "347                       380            0              3       1   \n",
       "348                       381            1              9       0   \n",
       "349                       382            0              4       0   \n",
       "350                       383            0              3       1   \n",
       "351                       384            0              4       1   \n",
       "\n",
       "     DISEASE GROUPING 1  DISEASE GROUPING 2  DISEASE GROUPING 3  \\\n",
       "0                   0.0                 0.0                 0.0   \n",
       "1                   0.0                 0.0                 0.0   \n",
       "2                   0.0                 0.0                 0.0   \n",
       "3                   0.0                 0.0                 0.0   \n",
       "4                   0.0                 0.0                 0.0   \n",
       "..                  ...                 ...                 ...   \n",
       "347                 0.0                 0.0                 0.0   \n",
       "348                 0.0                 0.0                 0.0   \n",
       "349                 0.0                 0.0                 0.0   \n",
       "350                 0.0                 0.0                 0.0   \n",
       "351                 0.0                 0.0                 0.0   \n",
       "\n",
       "     DISEASE GROUPING 4  DISEASE GROUPING 5  DISEASE GROUPING 6  ...  \\\n",
       "0                   0.0                 1.0                 1.0  ...   \n",
       "1                   0.0                 0.0                 0.0  ...   \n",
       "2                   0.0                 0.0                 0.0  ...   \n",
       "3                   0.0                 0.0                 0.0  ...   \n",
       "4                   0.0                 0.0                 0.0  ...   \n",
       "..                  ...                 ...                 ...  ...   \n",
       "347                 0.0                 0.0                 0.0  ...   \n",
       "348                 0.0                 0.0                 0.0  ...   \n",
       "349                 0.0                 0.0                 0.0  ...   \n",
       "350                 0.0                 0.0                 0.0  ...   \n",
       "351                 0.0                 0.0                 0.0  ...   \n",
       "\n",
       "     BLOODPRESSURE_DIASTOLIC_MAX  BLOODPRESSURE_DIASTOLIC_DIFF  \\\n",
       "0                      -0.247863                     -1.000000   \n",
       "1                      -0.435897                     -0.547826   \n",
       "2                      -0.299145                     -1.000000   \n",
       "3                      -0.076923                     -1.000000   \n",
       "4                      -0.247863                     -0.826087   \n",
       "..                           ...                           ...   \n",
       "347                    -0.418803                     -1.000000   \n",
       "348                    -0.589744                     -1.000000   \n",
       "349                    -0.299145                     -1.000000   \n",
       "350                    -0.247863                     -1.000000   \n",
       "351                    -0.299145                     -1.000000   \n",
       "\n",
       "     BLOODPRESSURE_SISTOLIC_DIFF  HEART_RATE_DIFF  RESPIRATORY_RATE_DIFF  \\\n",
       "0                      -1.000000        -1.000000              -1.000000   \n",
       "1                      -0.533742        -0.603053              -0.764706   \n",
       "2                      -1.000000        -1.000000              -1.000000   \n",
       "3                      -0.877301        -0.923664              -0.882353   \n",
       "4                      -0.754601        -0.984733              -1.000000   \n",
       "..                           ...              ...                    ...   \n",
       "347                    -1.000000        -1.000000              -1.000000   \n",
       "348                    -1.000000        -1.000000              -1.000000   \n",
       "349                    -1.000000        -1.000000              -1.000000   \n",
       "350                    -1.000000        -1.000000              -1.000000   \n",
       "351                    -1.000000        -1.000000              -1.000000   \n",
       "\n",
       "     TEMPERATURE_DIFF  OXYGEN_SATURATION_DIFF  HEART_RATE_DIFF_REL  WINDOW  \\\n",
       "0           -1.000000               -1.000000            -1.000000     0-2   \n",
       "1           -1.000000               -0.959596            -0.747001     0-2   \n",
       "2           -1.000000               -1.000000            -1.000000     0-2   \n",
       "3           -0.952381               -0.979798            -0.956805     0-2   \n",
       "4           -0.976190               -0.979798            -0.986481     0-2   \n",
       "..                ...                     ...                  ...     ...   \n",
       "347         -1.000000               -1.000000            -1.000000     0-2   \n",
       "348         -0.619048               -1.000000            -1.000000     0-2   \n",
       "349         -1.000000               -1.000000            -1.000000     0-2   \n",
       "350         -1.000000               -1.000000            -1.000000     0-2   \n",
       "351         -1.000000               -1.000000            -1.000000     0-2   \n",
       "\n",
       "     ICU  \n",
       "0      1  \n",
       "1      1  \n",
       "2      0  \n",
       "3      0  \n",
       "4      0  \n",
       "..   ...  \n",
       "347    1  \n",
       "348    0  \n",
       "349    1  \n",
       "350    0  \n",
       "351    0  \n",
       "\n",
       "[352 rows x 100 columns]"
      ]
     },
     "metadata": {},
     "output_type": "display_data"
    }
   ],
   "source": [
    "display(dados_limpos)"
   ]
  },
  {
   "cell_type": "markdown",
   "id": "49d3ea67",
   "metadata": {},
   "source": [
    "# Na base de dados encontramos 4 tipos de variáveis\n",
    "\n",
    "* Informação demográfica - 3 variáveis (gênero e idade)\n",
    "* Doenças pré-existentes - 9 variáveis (6 grupos, pressão alta, imunossuprimido e outros)\n",
    "* Resultados do exame de sangue - 36 variáveis\n",
    "* Sinais vitais - 6 variáveis"
   ]
  },
  {
   "cell_type": "markdown",
   "id": "ba96538e",
   "metadata": {},
   "source": [
    "# Iremos fornecer essas informações ao nosso modelo para obtermos previsões."
   ]
  },
  {
   "cell_type": "markdown",
   "id": "006f2d89",
   "metadata": {},
   "source": [
    "# 2- Modelos de Machine Learning"
   ]
  },
  {
   "cell_type": "markdown",
   "id": "3ebb6ae4",
   "metadata": {},
   "source": [
    "# Dividindo os dados em treino e teste\n",
    "\n",
    "Para evitar o problema do overfit precisamos separar uma parte dos dados que ficarão fora do processo do treino do modelo.\n",
    "Isso evita com que o modelo não apenas \"decore\" os dados e, consequentemente, não tenha nenhum poder preditivo com dados futuros!\n",
    "\n",
    "Como nossa base de dados é pequena vamos utilizar grande parte dela para o treino. Escolhemos usar 85% dos dados para treino e reservar 15% para o teste."
   ]
  },
  {
   "cell_type": "code",
   "execution_count": 7,
   "id": "92a4235e",
   "metadata": {},
   "outputs": [],
   "source": [
    "np.random.seed(73246)\n",
    "\n",
    "y = dados_limpos[\"ICU\"]\n",
    "x = dados_limpos.drop([\"PATIENT_VISIT_IDENTIFIER\",\"ICU\",\"WINDOW\"], axis=1)\n",
    "x_train, x_test, y_train, y_test = train_test_split(x, y, stratify=y, train_size= 0.85)"
   ]
  },
  {
   "cell_type": "markdown",
   "id": "b44ef2eb",
   "metadata": {},
   "source": [
    "## O primeiro passo antes de começar a entrar na parte dos modelos de machine learnig é ter um baseline, isto é, um resultado que defina o mínimo de precisão que os modelos desenvolvidos precisam alcançar.\n",
    "\n",
    "## O baseline escolhido foi o DummyClassifier. Esse modelo equivale a chutar o resultado que ocorre com mais frequência para todas as predições.\n"
   ]
  },
  {
   "cell_type": "code",
   "execution_count": 17,
   "id": "28e0fc0e",
   "metadata": {},
   "outputs": [
    {
     "data": {
      "image/png": "[encoded data removed]",
      "text/plain": [
       "<Figure size 432x288 with 1 Axes>"
      ]
     },
     "metadata": {
      "needs_background": "light"
     },
     "output_type": "display_data"
    }
   ],
   "source": [
    "y_train.value_counts().plot(kind=\"bar\")\n",
    "plt.title(\"Número de paciente por valor de ICU\")\n",
    "plt.show()"
   ]
  },
  {
   "cell_type": "markdown",
   "id": "fc2732cd",
   "metadata": {},
   "source": [
    "## Nos nosso dados de treino o resultado mais frequente é que o paciente não foi pra UTI (ICU = 0)\n",
    "\n",
    "## Portanto, a previsão do DummyClassifier para os dados de teste será que nenhum dos pacientes vai precisar de UTI!"
   ]
  },
  {
   "cell_type": "code",
   "execution_count": 9,
   "id": "ae060717",
   "metadata": {},
   "outputs": [
    {
     "data": {
      "text/plain": [
       "0.5283018867924528"
      ]
     },
     "execution_count": 9,
     "metadata": {},
     "output_type": "execute_result"
    }
   ],
   "source": [
    "modelo = DummyClassifier()\n",
    "modelo.fit(x_train, y_train)\n",
    "\n",
    "y_prediction = modelo.predict(x_test)\n",
    "accuracy_score(y_test, y_prediction)"
   ]
  },
  {
   "cell_type": "markdown",
   "id": "c5e783d5",
   "metadata": {},
   "source": [
    "## Com essa lógica nosso modelo ingênuo consegue o resultado de 52,78% de acurácia!\n",
    "\n",
    "## Em modelo de classificação, se a base não for tão balanceada como a nossa, o DummyClassifier pode conseguir níveis de acurácia bem maiores."
   ]
  },
  {
   "cell_type": "markdown",
   "id": "ea453fbd",
   "metadata": {},
   "source": [
    "## Outro ponto a ser frisado é a escolha do indicador para avaliar a eficácia do modelo. \n",
    "\n",
    "## O DummyClassifier nos mostra como a acurácia pode ser enganosa. Para nosso modelo, o perigo de se basear nela é ainda maior porque estamos trabalhando com vidas!!"
   ]
  },
  {
   "cell_type": "markdown",
   "id": "14af7c3d",
   "metadata": {},
   "source": [
    "## Mandar erroneamente para casa um paciente que na realidade irá precisar de UTI é temerário. A acurácia não faz distinção para esse tipo de erro, então utilizaremos outra métrica para avaliar nossos modelos.\n",
    "\n",
    "## A métrica é a área sob a curva da curva ROC (AUC), que vai de 0 a 1, sendo igual a 1 quando o modelo é perfeito!"
   ]
  },
  {
   "cell_type": "markdown",
   "id": "5424a57e",
   "metadata": {},
   "source": [
    "# 2.1- Regressão Logística\n",
    "\n",
    "## O primeiro modelo propriamente de machine learning que iremos utilizar é o LogisticRegression"
   ]
  },
  {
   "cell_type": "code",
   "execution_count": 10,
   "id": "8e12ceef",
   "metadata": {},
   "outputs": [],
   "source": [
    "modelo = LogisticRegression()"
   ]
  },
  {
   "cell_type": "markdown",
   "id": "d5354dad",
   "metadata": {},
   "source": [
    "## Para otimizar nosso modelo iremos realizar o grid search, que consiste de uma busca exaustiva de diferentes combinações de hiperparâmetros, até encontrar a melhor delas."
   ]
  },
  {
   "cell_type": "code",
   "execution_count": 11,
   "id": "43384087",
   "metadata": {},
   "outputs": [],
   "source": [
    "param_grid = [    \n",
    "    {'penalty' : ['l1', 'l2', 'elasticnet', 'none'],\n",
    "    'C' : np.logspace(-4, 4, 5),\n",
    "    'solver' : ['lbfgs','newton-cg','liblinear','sag','saga'],\n",
    "    'max_iter' : [10000, 20000]\n",
    "    }\n",
    "]\n",
    "\n"
   ]
  },
  {
   "cell_type": "markdown",
   "id": "b7aae1b6",
   "metadata": {},
   "source": [
    "## Utilizando a função busca_hiperparametros fazemos o grid search. Como existem inúmeras combinações possíveis ele é computacionalmente intenso e leva um certo tempo."
   ]
  },
  {
   "cell_type": "code",
   "execution_count": 14,
   "id": "2b09b4b0",
   "metadata": {},
   "outputs": [
    {
     "name": "stdout",
     "output_type": "stream",
     "text": [
      "AUC medio treino:  0.8337400462186447\n",
      "AUC medio teste:  0.7683222875986034\n",
      "Intervalo confiança 95% do AUC medio teste:  0.6682953234252605 - 0.8683492517719463\n"
     ]
    },
    {
     "data": {
      "text/plain": [
       "(0.7683222875986034, 0.8337400462186447)"
      ]
     },
     "execution_count": 14,
     "metadata": {},
     "output_type": "execute_result"
    }
   ],
   "source": [
    "busca_hiperparametros(modelo, x, y, 5, 5, param_grid)"
   ]
  },
  {
   "cell_type": "markdown",
   "id": "a7e3726b",
   "metadata": {},
   "source": [
    "## E encontramos a melhor escolha de hiperparâmetros!!"
   ]
  },
  {
   "cell_type": "code",
   "execution_count": null,
   "id": "34be736f",
   "metadata": {},
   "outputs": [],
   "source": [
    "busca.best_params_"
   ]
  },
  {
   "cell_type": "markdown",
   "id": "d9e9caaf",
   "metadata": {},
   "source": [
    "## Os resultado dão um AUC médio de 0,768 nos dados de teste. No treino o modelo é um pouco melhor apenas, o que é esperado."
   ]
  },
  {
   "cell_type": "markdown",
   "id": "d7ac67ad",
   "metadata": {},
   "source": [
    "# 2.2- RandomForestClassifier\n",
    "\n",
    "## Agora nosso segundo modelo de ML. \n",
    "\n",
    "## Vamos repetir todas as mesmas etapas para descobrir se o modelo de árvore de decisão é melhor que o modelo anterior."
   ]
  },
  {
   "cell_type": "code",
   "execution_count": 15,
   "id": "080fa9f2",
   "metadata": {},
   "outputs": [],
   "source": [
    "modelo_arvore = RandomForestClassifier()\n",
    "espaco_de_parametros = {\n",
    "    \"max_depth\" : [3, 5],\n",
    "    \"min_samples_split\" : [32, 64, 128],\n",
    "    \"min_samples_leaf\" : [32, 64, 128],\n",
    "    \"criterion\" : [\"gini\", \"entropy\"]\n",
    "}"
   ]
  },
  {
   "cell_type": "code",
   "execution_count": 16,
   "id": "aff3ddfe",
   "metadata": {},
   "outputs": [
    {
     "name": "stdout",
     "output_type": "stream",
     "text": [
      "AUC medio treino:  0.8578380040798976\n",
      "AUC medio teste:  0.7933531078925816\n",
      "Intervalo confiança 95% do AUC medio teste:  0.7173248328141568 - 0.8693813829710064\n"
     ]
    },
    {
     "data": {
      "text/plain": [
       "(0.7933531078925816, 0.8578380040798976)"
      ]
     },
     "execution_count": 16,
     "metadata": {},
     "output_type": "execute_result"
    }
   ],
   "source": [
    "busca_hiperparametros(modelo_arvore, x, y, 5, 5, espaco_de_parametros)"
   ]
  },
  {
   "cell_type": "markdown",
   "id": "73f76f92",
   "metadata": {},
   "source": [
    "## Temos uma melhora marginal em relação ao modelo anterior, com AUC de 0,793!\n",
    "\n",
    "## Em relação à Regressão Logistica, o modelo de Random Forest não só tem um AUC médio maior, como também uma variância menor e, consequentemente, um intervalo de confiança mais estreito.\n",
    "\n",
    "## Portanto não restam dúvidas que o Random Forest teve uma melhor performance para o nosso caso!"
   ]
  },
  {
   "cell_type": "markdown",
   "id": "cdf69b1f",
   "metadata": {},
   "source": [
    "# 3- Conclusão"
   ]
  },
  {
   "cell_type": "markdown",
   "id": "783b1e3e",
   "metadata": {},
   "source": [
    "## Nesse projeto exploramos o uso de técnicas de machine learning para serem implemetadas na área da saúde, mais especificamente, para prever a necessidade de UTI para paciente que confirmadamente contraíram a COVID-19.\n",
    "\n",
    "## Foram utilizados dois modelos diferentes da biblioteca scikit-learn: Logistic Regression e Random Forest"
   ]
  },
  {
   "cell_type": "markdown",
   "id": "8c1c6a0e",
   "metadata": {},
   "source": [
    "## Os resultados apontaram que, para nosso problema específico e conjunto de dados, o modelo Random Forest (AUC médio = 0,793) teve um desempenho ligeiramente superior ao modelo Logistic Regression (AUC médio = 0,768)."
   ]
  },
  {
   "cell_type": "markdown",
   "id": "796c9e01",
   "metadata": {},
   "source": [
    "# Limitações\n",
    "\n",
    "## Nosso projeto possui algumas limitações:\n",
    "\n",
    "* o tamanho do conjunto de dados é relativamente pequeno (após a limpeza restaram 352 pacientes)\n",
    "* testamos apenas dois modelos diferentes quando existem muitos outros que poderiam ter um fit melhor\n",
    "* por limitações computacionais e de tempo o grid search não foi tão amplo como poderia ser"
   ]
  },
  {
   "cell_type": "markdown",
   "id": "091e8b8d",
   "metadata": {},
   "source": [
    "# Considerações finais"
   ]
  },
  {
   "cell_type": "markdown",
   "id": "4fb06609",
   "metadata": {},
   "source": [
    "## Como Milton Friedman bem disse, não existe almoço grátis. Sempre existirá um modelo e uma escolha de hiperparâmetros que produzirá melhores resultados, então o cientista de dados deve sempre estar explorando suas possibilidades."
   ]
  },
  {
   "cell_type": "markdown",
   "id": "b5efb087",
   "metadata": {},
   "source": [
    "![](https://i.pinimg.com/originals/2d/c0/a9/2dc0a95b72022c2bd43aaadf061ff71e.jpg)"
   ]
  }
 ],
 "metadata": {
  "kernelspec": {
   "display_name": "Python 3",
   "language": "python",
   "name": "python3"
  },
  "language_info": {
   "codemirror_mode": {
    "name": "ipython",
    "version": 3
   },
   "file_extension": ".py",
   "mimetype": "text/x-python",
   "name": "python",
   "nbconvert_exporter": "python",
   "pygments_lexer": "ipython3",
   "version": "3.7.6"
  }
 },
 "nbformat": 4,
 "nbformat_minor": 5
}
